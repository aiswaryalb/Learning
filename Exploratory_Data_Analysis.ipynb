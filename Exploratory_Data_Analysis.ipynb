{
  "nbformat": 4,
  "nbformat_minor": 0,
  "metadata": {
    "colab": {
      "provenance": [],
      "collapsed_sections": []
    },
    "kernelspec": {
      "name": "python3",
      "display_name": "Python 3"
    },
    "language_info": {
      "name": "python"
    }
  },
  "cells": [
    {
      "cell_type": "code",
      "source": [
        "import pandas as pd\n",
        "import numpy as np\n",
        "import matplotlib.pyplot as plt"
      ],
      "metadata": {
        "id": "wMcsliDFHntC"
      },
      "execution_count": 4,
      "outputs": []
    },
    {
      "cell_type": "markdown",
      "source": [
        "Q1) Calculate Skewness, Kurtosis using R/Python code & draw inferences on the following data. Refer to the Datasets attachment for data file.\n",
        "\n",
        "Hint: [Insights drawn from the data such as data is normally distributed/not, outliers, measures like mean, median, mode, variance, std. deviation]\n",
        "\n",
        "   a.   Cars speed and distance\n",
        "   "
      ],
      "metadata": {
        "id": "gbpLhiiIHgx2"
      }
    },
    {
      "cell_type": "code",
      "source": [
        "df1 = pd.read_csv('Q1_a.csv')\n",
        "df1.head()"
      ],
      "metadata": {
        "colab": {
          "base_uri": "https://localhost:8080/",
          "height": 206
        },
        "id": "_mrmxJ4UIccJ",
        "outputId": "8cbd9f62-d4cb-4241-9b22-a4a7a72993a9"
      },
      "execution_count": 5,
      "outputs": [
        {
          "output_type": "execute_result",
          "data": {
            "text/plain": [
              "   Index  speed  dist\n",
              "0      1      4     2\n",
              "1      2      4    10\n",
              "2      3      7     4\n",
              "3      4      7    22\n",
              "4      5      8    16"
            ],
            "text/html": [
              "\n",
              "  <div id=\"df-3612d941-f3c1-43c2-b116-740e945af1ad\">\n",
              "    <div class=\"colab-df-container\">\n",
              "      <div>\n",
              "<style scoped>\n",
              "    .dataframe tbody tr th:only-of-type {\n",
              "        vertical-align: middle;\n",
              "    }\n",
              "\n",
              "    .dataframe tbody tr th {\n",
              "        vertical-align: top;\n",
              "    }\n",
              "\n",
              "    .dataframe thead th {\n",
              "        text-align: right;\n",
              "    }\n",
              "</style>\n",
              "<table border=\"1\" class=\"dataframe\">\n",
              "  <thead>\n",
              "    <tr style=\"text-align: right;\">\n",
              "      <th></th>\n",
              "      <th>Index</th>\n",
              "      <th>speed</th>\n",
              "      <th>dist</th>\n",
              "    </tr>\n",
              "  </thead>\n",
              "  <tbody>\n",
              "    <tr>\n",
              "      <th>0</th>\n",
              "      <td>1</td>\n",
              "      <td>4</td>\n",
              "      <td>2</td>\n",
              "    </tr>\n",
              "    <tr>\n",
              "      <th>1</th>\n",
              "      <td>2</td>\n",
              "      <td>4</td>\n",
              "      <td>10</td>\n",
              "    </tr>\n",
              "    <tr>\n",
              "      <th>2</th>\n",
              "      <td>3</td>\n",
              "      <td>7</td>\n",
              "      <td>4</td>\n",
              "    </tr>\n",
              "    <tr>\n",
              "      <th>3</th>\n",
              "      <td>4</td>\n",
              "      <td>7</td>\n",
              "      <td>22</td>\n",
              "    </tr>\n",
              "    <tr>\n",
              "      <th>4</th>\n",
              "      <td>5</td>\n",
              "      <td>8</td>\n",
              "      <td>16</td>\n",
              "    </tr>\n",
              "  </tbody>\n",
              "</table>\n",
              "</div>\n",
              "      <button class=\"colab-df-convert\" onclick=\"convertToInteractive('df-3612d941-f3c1-43c2-b116-740e945af1ad')\"\n",
              "              title=\"Convert this dataframe to an interactive table.\"\n",
              "              style=\"display:none;\">\n",
              "        \n",
              "  <svg xmlns=\"http://www.w3.org/2000/svg\" height=\"24px\"viewBox=\"0 0 24 24\"\n",
              "       width=\"24px\">\n",
              "    <path d=\"M0 0h24v24H0V0z\" fill=\"none\"/>\n",
              "    <path d=\"M18.56 5.44l.94 2.06.94-2.06 2.06-.94-2.06-.94-.94-2.06-.94 2.06-2.06.94zm-11 1L8.5 8.5l.94-2.06 2.06-.94-2.06-.94L8.5 2.5l-.94 2.06-2.06.94zm10 10l.94 2.06.94-2.06 2.06-.94-2.06-.94-.94-2.06-.94 2.06-2.06.94z\"/><path d=\"M17.41 7.96l-1.37-1.37c-.4-.4-.92-.59-1.43-.59-.52 0-1.04.2-1.43.59L10.3 9.45l-7.72 7.72c-.78.78-.78 2.05 0 2.83L4 21.41c.39.39.9.59 1.41.59.51 0 1.02-.2 1.41-.59l7.78-7.78 2.81-2.81c.8-.78.8-2.07 0-2.86zM5.41 20L4 18.59l7.72-7.72 1.47 1.35L5.41 20z\"/>\n",
              "  </svg>\n",
              "      </button>\n",
              "      \n",
              "  <style>\n",
              "    .colab-df-container {\n",
              "      display:flex;\n",
              "      flex-wrap:wrap;\n",
              "      gap: 12px;\n",
              "    }\n",
              "\n",
              "    .colab-df-convert {\n",
              "      background-color: #E8F0FE;\n",
              "      border: none;\n",
              "      border-radius: 50%;\n",
              "      cursor: pointer;\n",
              "      display: none;\n",
              "      fill: #1967D2;\n",
              "      height: 32px;\n",
              "      padding: 0 0 0 0;\n",
              "      width: 32px;\n",
              "    }\n",
              "\n",
              "    .colab-df-convert:hover {\n",
              "      background-color: #E2EBFA;\n",
              "      box-shadow: 0px 1px 2px rgba(60, 64, 67, 0.3), 0px 1px 3px 1px rgba(60, 64, 67, 0.15);\n",
              "      fill: #174EA6;\n",
              "    }\n",
              "\n",
              "    [theme=dark] .colab-df-convert {\n",
              "      background-color: #3B4455;\n",
              "      fill: #D2E3FC;\n",
              "    }\n",
              "\n",
              "    [theme=dark] .colab-df-convert:hover {\n",
              "      background-color: #434B5C;\n",
              "      box-shadow: 0px 1px 3px 1px rgba(0, 0, 0, 0.15);\n",
              "      filter: drop-shadow(0px 1px 2px rgba(0, 0, 0, 0.3));\n",
              "      fill: #FFFFFF;\n",
              "    }\n",
              "  </style>\n",
              "\n",
              "      <script>\n",
              "        const buttonEl =\n",
              "          document.querySelector('#df-3612d941-f3c1-43c2-b116-740e945af1ad button.colab-df-convert');\n",
              "        buttonEl.style.display =\n",
              "          google.colab.kernel.accessAllowed ? 'block' : 'none';\n",
              "\n",
              "        async function convertToInteractive(key) {\n",
              "          const element = document.querySelector('#df-3612d941-f3c1-43c2-b116-740e945af1ad');\n",
              "          const dataTable =\n",
              "            await google.colab.kernel.invokeFunction('convertToInteractive',\n",
              "                                                     [key], {});\n",
              "          if (!dataTable) return;\n",
              "\n",
              "          const docLinkHtml = 'Like what you see? Visit the ' +\n",
              "            '<a target=\"_blank\" href=https://colab.research.google.com/notebooks/data_table.ipynb>data table notebook</a>'\n",
              "            + ' to learn more about interactive tables.';\n",
              "          element.innerHTML = '';\n",
              "          dataTable['output_type'] = 'display_data';\n",
              "          await google.colab.output.renderOutput(dataTable, element);\n",
              "          const docLink = document.createElement('div');\n",
              "          docLink.innerHTML = docLinkHtml;\n",
              "          element.appendChild(docLink);\n",
              "        }\n",
              "      </script>\n",
              "    </div>\n",
              "  </div>\n",
              "  "
            ]
          },
          "metadata": {},
          "execution_count": 5
        }
      ]
    },
    {
      "cell_type": "code",
      "source": [
        "print('SPEED')\n",
        "print(\"Mean\",df1.speed.mean())\n",
        "print(\"Median\",df1.speed.median())\n",
        "print(\"Mode\",df1.speed.mode())\n",
        "print(\"Variance\",df1.speed.var())\n",
        "print(\"STD\",df1.speed.std())\n",
        "print(\"Skewness\",df1.speed.skew())\n",
        "print(\"Kurtosis\",df1.speed.kurt())\n",
        "\n",
        "print('\\nDISTANCE')\n",
        "print(\"Mean\",df1.dist.mean())\n",
        "print(\"Median\",df1.dist.median())\n",
        "print(\"Mode\",df1.dist.mode())\n",
        "print(\"Variance\",df1.dist.var())\n",
        "print(\"STD\",df1.dist.std())\n",
        "print(\"Skewness\",df1.dist.skew())\n",
        "print(\"Kurtosis\",df1.dist.kurt())\n"
      ],
      "metadata": {
        "colab": {
          "base_uri": "https://localhost:8080/"
        },
        "id": "nZsz4xfeIxCE",
        "outputId": "1c49094f-3e96-41e6-8120-448b586d106a"
      },
      "execution_count": 6,
      "outputs": [
        {
          "output_type": "stream",
          "name": "stdout",
          "text": [
            "SPEED\n",
            "Mean 15.4\n",
            "Median 15.0\n",
            "Mode 0    20\n",
            "dtype: int64\n",
            "Variance 27.959183673469386\n",
            "STD 5.2876444352347844\n",
            "Skewness -0.11750986144663393\n",
            "Kurtosis -0.5089944204057617\n",
            "\n",
            "DISTANCE\n",
            "Mean 42.98\n",
            "Median 36.0\n",
            "Mode 0    26\n",
            "dtype: int64\n",
            "Variance 664.0608163265307\n",
            "STD 25.769377492025892\n",
            "Skewness 0.8068949601674215\n",
            "Kurtosis 0.4050525816795765\n"
          ]
        }
      ]
    },
    {
      "cell_type": "code",
      "source": [
        "df1[['speed','dist']].plot.kde()\n",
        "#It can be interpreted that\n",
        "#SPEED\n",
        "#It is negatively skewed\n",
        "#The average speed is 15.4 and 20 is most occured speed\n",
        "#It has negative kurtosis \n",
        "#From box plot one can see absence of outliers\n",
        "#DISTANCE\n",
        "#Positively skewed with positive kurtosis\n",
        "#In box plot we can see presence of outliers\n",
        "#also there is high variance in the data"
      ],
      "metadata": {
        "colab": {
          "base_uri": "https://localhost:8080/",
          "height": 282
        },
        "id": "TB5sia1CKzLe",
        "outputId": "1f73ec6e-ee63-49c5-f002-0b25ad7247e7"
      },
      "execution_count": 7,
      "outputs": [
        {
          "output_type": "execute_result",
          "data": {
            "text/plain": [
              "<matplotlib.axes._subplots.AxesSubplot at 0x7f73d8452fd0>"
            ]
          },
          "metadata": {},
          "execution_count": 7
        },
        {
          "output_type": "display_data",
          "data": {
            "text/plain": [
              "<Figure size 432x288 with 1 Axes>"
            ],
            "image/png": "[encoded data removed]"
          },
          "metadata": {
            "needs_background": "light"
          }
        }
      ]
    },
    {
      "cell_type": "code",
      "source": [
        "df1[['speed','dist']].plot.box()"
      ],
      "metadata": {
        "colab": {
          "base_uri": "https://localhost:8080/",
          "height": 282
        },
        "id": "ZqSvU1pUORju",
        "outputId": "3fed535f-e72c-483f-c33f-ea48355702fa"
      },
      "execution_count": 8,
      "outputs": [
        {
          "output_type": "execute_result",
          "data": {
            "text/plain": [
              "<matplotlib.axes._subplots.AxesSubplot at 0x7f73cc865290>"
            ]
          },
          "metadata": {},
          "execution_count": 8
        },
        {
          "output_type": "display_data",
          "data": {
            "text/plain": [
              "<Figure size 432x288 with 1 Axes>"
            ],
            "image/png": "[encoded data removed]"
          },
          "metadata": {
            "needs_background": "light"
          }
        }
      ]
    },
    {
      "cell_type": "markdown",
      "source": [
        "   b. Top Speed (SP) and Weight (WT)\n"
      ],
      "metadata": {
        "id": "zWJUMbKtPxrR"
      }
    },
    {
      "cell_type": "code",
      "source": [
        "df2 = pd.read_csv('Q2_b.csv')\n",
        "df2.head()"
      ],
      "metadata": {
        "colab": {
          "base_uri": "https://localhost:8080/",
          "height": 206
        },
        "id": "LZufydFcPy5g",
        "outputId": "645a4d43-c56d-4360-8795-8185a6be58eb"
      },
      "execution_count": 9,
      "outputs": [
        {
          "output_type": "execute_result",
          "data": {
            "text/plain": [
              "   Unnamed: 0          SP         WT\n",
              "0           1  104.185353  28.762059\n",
              "1           2  105.461264  30.466833\n",
              "2           3  105.461264  30.193597\n",
              "3           4  113.461264  30.632114\n",
              "4           5  104.461264  29.889149"
            ],
            "text/html": [
              "\n",
              "  <div id=\"df-8a19fd89-5e5b-4d07-b33b-ef31150f3ebd\">\n",
              "    <div class=\"colab-df-container\">\n",
              "      <div>\n",
              "<style scoped>\n",
              "    .dataframe tbody tr th:only-of-type {\n",
              "        vertical-align: middle;\n",
              "    }\n",
              "\n",
              "    .dataframe tbody tr th {\n",
              "        vertical-align: top;\n",
              "    }\n",
              "\n",
              "    .dataframe thead th {\n",
              "        text-align: right;\n",
              "    }\n",
              "</style>\n",
              "<table border=\"1\" class=\"dataframe\">\n",
              "  <thead>\n",
              "    <tr style=\"text-align: right;\">\n",
              "      <th></th>\n",
              "      <th>Unnamed: 0</th>\n",
              "      <th>SP</th>\n",
              "      <th>WT</th>\n",
              "    </tr>\n",
              "  </thead>\n",
              "  <tbody>\n",
              "    <tr>\n",
              "      <th>0</th>\n",
              "      <td>1</td>\n",
              "      <td>104.185353</td>\n",
              "      <td>28.762059</td>\n",
              "    </tr>\n",
              "    <tr>\n",
              "      <th>1</th>\n",
              "      <td>2</td>\n",
              "      <td>105.461264</td>\n",
              "      <td>30.466833</td>\n",
              "    </tr>\n",
              "    <tr>\n",
              "      <th>2</th>\n",
              "      <td>3</td>\n",
              "      <td>105.461264</td>\n",
              "      <td>30.193597</td>\n",
              "    </tr>\n",
              "    <tr>\n",
              "      <th>3</th>\n",
              "      <td>4</td>\n",
              "      <td>113.461264</td>\n",
              "      <td>30.632114</td>\n",
              "    </tr>\n",
              "    <tr>\n",
              "      <th>4</th>\n",
              "      <td>5</td>\n",
              "      <td>104.461264</td>\n",
              "      <td>29.889149</td>\n",
              "    </tr>\n",
              "  </tbody>\n",
              "</table>\n",
              "</div>\n",
              "      <button class=\"colab-df-convert\" onclick=\"convertToInteractive('df-8a19fd89-5e5b-4d07-b33b-ef31150f3ebd')\"\n",
              "              title=\"Convert this dataframe to an interactive table.\"\n",
              "              style=\"display:none;\">\n",
              "        \n",
              "  <svg xmlns=\"http://www.w3.org/2000/svg\" height=\"24px\"viewBox=\"0 0 24 24\"\n",
              "       width=\"24px\">\n",
              "    <path d=\"M0 0h24v24H0V0z\" fill=\"none\"/>\n",
              "    <path d=\"M18.56 5.44l.94 2.06.94-2.06 2.06-.94-2.06-.94-.94-2.06-.94 2.06-2.06.94zm-11 1L8.5 8.5l.94-2.06 2.06-.94-2.06-.94L8.5 2.5l-.94 2.06-2.06.94zm10 10l.94 2.06.94-2.06 2.06-.94-2.06-.94-.94-2.06-.94 2.06-2.06.94z\"/><path d=\"M17.41 7.96l-1.37-1.37c-.4-.4-.92-.59-1.43-.59-.52 0-1.04.2-1.43.59L10.3 9.45l-7.72 7.72c-.78.78-.78 2.05 0 2.83L4 21.41c.39.39.9.59 1.41.59.51 0 1.02-.2 1.41-.59l7.78-7.78 2.81-2.81c.8-.78.8-2.07 0-2.86zM5.41 20L4 18.59l7.72-7.72 1.47 1.35L5.41 20z\"/>\n",
              "  </svg>\n",
              "      </button>\n",
              "      \n",
              "  <style>\n",
              "    .colab-df-container {\n",
              "      display:flex;\n",
              "      flex-wrap:wrap;\n",
              "      gap: 12px;\n",
              "    }\n",
              "\n",
              "    .colab-df-convert {\n",
              "      background-color: #E8F0FE;\n",
              "      border: none;\n",
              "      border-radius: 50%;\n",
              "      cursor: pointer;\n",
              "      display: none;\n",
              "      fill: #1967D2;\n",
              "      height: 32px;\n",
              "      padding: 0 0 0 0;\n",
              "      width: 32px;\n",
              "    }\n",
              "\n",
              "    .colab-df-convert:hover {\n",
              "      background-color: #E2EBFA;\n",
              "      box-shadow: 0px 1px 2px rgba(60, 64, 67, 0.3), 0px 1px 3px 1px rgba(60, 64, 67, 0.15);\n",
              "      fill: #174EA6;\n",
              "    }\n",
              "\n",
              "    [theme=dark] .colab-df-convert {\n",
              "      background-color: #3B4455;\n",
              "      fill: #D2E3FC;\n",
              "    }\n",
              "\n",
              "    [theme=dark] .colab-df-convert:hover {\n",
              "      background-color: #434B5C;\n",
              "      box-shadow: 0px 1px 3px 1px rgba(0, 0, 0, 0.15);\n",
              "      filter: drop-shadow(0px 1px 2px rgba(0, 0, 0, 0.3));\n",
              "      fill: #FFFFFF;\n",
              "    }\n",
              "  </style>\n",
              "\n",
              "      <script>\n",
              "        const buttonEl =\n",
              "          document.querySelector('#df-8a19fd89-5e5b-4d07-b33b-ef31150f3ebd button.colab-df-convert');\n",
              "        buttonEl.style.display =\n",
              "          google.colab.kernel.accessAllowed ? 'block' : 'none';\n",
              "\n",
              "        async function convertToInteractive(key) {\n",
              "          const element = document.querySelector('#df-8a19fd89-5e5b-4d07-b33b-ef31150f3ebd');\n",
              "          const dataTable =\n",
              "            await google.colab.kernel.invokeFunction('convertToInteractive',\n",
              "                                                     [key], {});\n",
              "          if (!dataTable) return;\n",
              "\n",
              "          const docLinkHtml = 'Like what you see? Visit the ' +\n",
              "            '<a target=\"_blank\" href=https://colab.research.google.com/notebooks/data_table.ipynb>data table notebook</a>'\n",
              "            + ' to learn more about interactive tables.';\n",
              "          element.innerHTML = '';\n",
              "          dataTable['output_type'] = 'display_data';\n",
              "          await google.colab.output.renderOutput(dataTable, element);\n",
              "          const docLink = document.createElement('div');\n",
              "          docLink.innerHTML = docLinkHtml;\n",
              "          element.appendChild(docLink);\n",
              "        }\n",
              "      </script>\n",
              "    </div>\n",
              "  </div>\n",
              "  "
            ]
          },
          "metadata": {},
          "execution_count": 9
        }
      ]
    },
    {
      "cell_type": "code",
      "source": [
        "print('SP')\n",
        "print(\"Mean\",df2.SP.mean())\n",
        "print(\"Median\",df2.SP.median())\n",
        "print(\"Mode\",df2.SP.mode())\n",
        "print(\"Variance\",df2.SP.var())\n",
        "print(\"STD\",df2.SP.std())\n",
        "print(\"Skewness\",df2.SP.skew())\n",
        "print(\"Kurtosis\",df2.SP.kurt())\n",
        "\n",
        "print('\\nWT')\n",
        "print(\"Mean\",df2.WT.mean())\n",
        "print(\"Median\",df2.WT.median())\n",
        "print(\"Mode\",df2.WT.mode())\n",
        "print(\"Variance\",df2.WT.var())\n",
        "print(\"STD\",df2.WT.std())\n",
        "print(\"Skewness\",df2.WT.skew())\n",
        "print(\"Kurtosis\",df2.WT.kurt())"
      ],
      "metadata": {
        "colab": {
          "base_uri": "https://localhost:8080/"
        },
        "id": "1FJx3O7GQANm",
        "outputId": "40f8ee27-9351-44f3-c56b-beeba4662d45"
      },
      "execution_count": 10,
      "outputs": [
        {
          "output_type": "stream",
          "name": "stdout",
          "text": [
            "SP\n",
            "Mean 121.54027218037035\n",
            "Median 118.2086984\n",
            "Mode 0    118.288996\n",
            "dtype: float64\n",
            "Variance 201.11300150303703\n",
            "STD 14.181431574528611\n",
            "Skewness 1.6114501961773586\n",
            "Kurtosis 2.9773289437871835\n",
            "\n",
            "WT\n",
            "Mean 32.412576910246905\n",
            "Median 32.73451818\n",
            "Mode 0     15.712859\n",
            "1     15.753535\n",
            "2     15.769625\n",
            "3     15.823060\n",
            "4     15.847758\n",
            "        ...    \n",
            "76    42.778219\n",
            "77    43.353123\n",
            "78    43.390988\n",
            "79    44.013139\n",
            "80    52.997752\n",
            "Length: 81, dtype: float64\n",
            "Variance 56.14224661390445\n",
            "STD 7.492812997393198\n",
            "Skewness -0.6147533255357768\n",
            "Kurtosis 0.9502914910300326\n"
          ]
        }
      ]
    },
    {
      "cell_type": "code",
      "source": [
        "df2[['SP','WT']].plot.kde()\n",
        "#It can be inferred that\n",
        "#SP\n",
        "#There is high variance among the data\n",
        "#There are outliers in the data\n",
        "#Skewness and kurtosis is positive with long tail\n",
        "#WT\n",
        "#There are outliers in the data\n",
        "#About 75% of data is concentrated at 0-50 range"
      ],
      "metadata": {
        "colab": {
          "base_uri": "https://localhost:8080/",
          "height": 282
        },
        "id": "v1ZpIJ8WQkkd",
        "outputId": "e1ab00a5-5835-4f27-c2f4-4d99f3bdeff6"
      },
      "execution_count": 11,
      "outputs": [
        {
          "output_type": "execute_result",
          "data": {
            "text/plain": [
              "<matplotlib.axes._subplots.AxesSubplot at 0x7f73cc387990>"
            ]
          },
          "metadata": {},
          "execution_count": 11
        },
        {
          "output_type": "display_data",
          "data": {
            "text/plain": [
              "<Figure size 432x288 with 1 Axes>"
            ],
            "image/png": "[encoded data removed]"
          },
          "metadata": {
            "needs_background": "light"
          }
        }
      ]
    },
    {
      "cell_type": "code",
      "source": [
        "df2[['SP','WT']].plot.box()"
      ],
      "metadata": {
        "colab": {
          "base_uri": "https://localhost:8080/",
          "height": 282
        },
        "id": "i0hVrINpQq-1",
        "outputId": "dde4350a-644d-4fa3-8cfd-1fc8f0792c9d"
      },
      "execution_count": 12,
      "outputs": [
        {
          "output_type": "execute_result",
          "data": {
            "text/plain": [
              "<matplotlib.axes._subplots.AxesSubplot at 0x7f73cc2c76d0>"
            ]
          },
          "metadata": {},
          "execution_count": 12
        },
        {
          "output_type": "display_data",
          "data": {
            "text/plain": [
              "<Figure size 432x288 with 1 Axes>"
            ],
            "image/png": "[encoded data removed]"
          },
          "metadata": {
            "needs_background": "light"
          }
        }
      ]
    },
    {
      "cell_type": "markdown",
      "source": [
        "Q2) Draw inferences about the following boxplot & histogram. "
      ],
      "metadata": {
        "id": "jHFMj26USHHu"
      }
    },
    {
      "cell_type": "code",
      "source": [
        "#Speed vs distance\n",
        "#From boxplot, for speed almost 100% data is concentrated in range 0-40 and has no outliers. Distance has outliers. Both arent normally distributed. \n",
        "#SP vs WT\n",
        "#From boxplot both has outliers. For WT around 75% data lies between range 0-40"
      ],
      "metadata": {
        "id": "fT8XExPIR2qt"
      },
      "execution_count": 13,
      "outputs": []
    },
    {
      "cell_type": "code",
      "source": [
        "plt.hist(df1.speed,bins=5)\n",
        "#The distribution is left skewed\n",
        "#highest speeds can be between range 12-20\n",
        "#15 values have range between 16.6 - 20.8"
      ],
      "metadata": {
        "colab": {
          "base_uri": "https://localhost:8080/",
          "height": 317
        },
        "id": "wnWSnU-AS7qE",
        "outputId": "9c14434a-6e8f-41db-e832-b88de00f9322"
      },
      "execution_count": 14,
      "outputs": [
        {
          "output_type": "execute_result",
          "data": {
            "text/plain": [
              "(array([ 5., 10., 13., 15.,  7.]),\n",
              " array([ 4. ,  8.2, 12.4, 16.6, 20.8, 25. ]),\n",
              " <a list of 5 Patch objects>)"
            ]
          },
          "metadata": {},
          "execution_count": 14
        },
        {
          "output_type": "display_data",
          "data": {
            "text/plain": [
              "<Figure size 432x288 with 1 Axes>"
            ],
            "image/png": "[encoded data removed]"
          },
          "metadata": {
            "needs_background": "light"
          }
        }
      ]
    },
    {
      "cell_type": "code",
      "source": [
        "plt.hist(df1.dist,bins=5)\n",
        "#Distribution is skewed\n",
        "#20 values have ranges between 25.6 and 49.2"
      ],
      "metadata": {
        "colab": {
          "base_uri": "https://localhost:8080/",
          "height": 317
        },
        "id": "NBv0Zl029igq",
        "outputId": "df95c44c-5117-43b0-c814-89e8ef21c700"
      },
      "execution_count": 15,
      "outputs": [
        {
          "output_type": "execute_result",
          "data": {
            "text/plain": [
              "(array([12., 20., 11.,  6.,  1.]),\n",
              " array([  2. ,  25.6,  49.2,  72.8,  96.4, 120. ]),\n",
              " <a list of 5 Patch objects>)"
            ]
          },
          "metadata": {},
          "execution_count": 15
        },
        {
          "output_type": "display_data",
          "data": {
            "text/plain": [
              "<Figure size 432x288 with 1 Axes>"
            ],
            "image/png": "[encoded data removed]"
          },
          "metadata": {
            "needs_background": "light"
          }
        }
      ]
    },
    {
      "cell_type": "code",
      "source": [
        "plt.hist(df2.SP,bins=5)\n",
        "#Distribution is right skewed\n",
        "#42 values have ranges between 113 and 127\n",
        "#Data has high variance"
      ],
      "metadata": {
        "colab": {
          "base_uri": "https://localhost:8080/",
          "height": 334
        },
        "id": "n3VA_osJAIai",
        "outputId": "031fea3e-e305-45cb-8117-41c5e928276d"
      },
      "execution_count": 16,
      "outputs": [
        {
          "output_type": "execute_result",
          "data": {
            "text/plain": [
              "(array([20., 42., 12.,  3.,  4.]),\n",
              " array([ 99.56490661, 113.57162785, 127.57834909, 141.58507032,\n",
              "        155.59179156, 169.5985128 ]),\n",
              " <a list of 5 Patch objects>)"
            ]
          },
          "metadata": {},
          "execution_count": 16
        },
        {
          "output_type": "display_data",
          "data": {
            "text/plain": [
              "<Figure size 432x288 with 1 Axes>"
            ],
            "image/png": "[encoded data removed]"
          },
          "metadata": {
            "needs_background": "light"
          }
        }
      ]
    },
    {
      "cell_type": "code",
      "source": [
        "plt.hist(df2.WT,bins=5)\n",
        "#37 values had ranges between 30-38"
      ],
      "metadata": {
        "colab": {
          "base_uri": "https://localhost:8080/",
          "height": 334
        },
        "id": "HdIgnqutAJjR",
        "outputId": "141cb170-f3b3-480d-f9a3-587305b384cd"
      },
      "execution_count": 17,
      "outputs": [
        {
          "output_type": "execute_result",
          "data": {
            "text/plain": [
              "(array([ 9., 22., 37., 12.,  1.]),\n",
              " array([15.71285853, 23.1698373 , 30.62681606, 38.08379483, 45.54077359,\n",
              "        52.99775236]),\n",
              " <a list of 5 Patch objects>)"
            ]
          },
          "metadata": {},
          "execution_count": 17
        },
        {
          "output_type": "display_data",
          "data": {
            "text/plain": [
              "<Figure size 432x288 with 1 Axes>"
            ],
            "image/png": "[encoded data removed]"
          },
          "metadata": {
            "needs_background": "light"
          }
        }
      ]
    },
    {
      "cell_type": "markdown",
      "source": [
        "Q3) Below are the scores obtained by a student in tests \n",
        "34,36,36,38,38,39,39,40,40,41,41,41,41,42,42,45,49,56\n",
        "\n",
        "Find mean, median, variance, standard deviation.\n",
        "\n",
        "What can we say about the student marks? [Hint: Looking at the various measures calculated above whether the data is normal/skewed or if outliers are present].  \n",
        "\n"
      ],
      "metadata": {
        "id": "2XY0FpSsDcLG"
      }
    },
    {
      "cell_type": "code",
      "source": [
        "scores = [34,36,36,38,38,39,39,40,40,41,41,41,41,42,42,45,49,56]\n",
        "sc = pd.DataFrame(scores)\n",
        "sc"
      ],
      "metadata": {
        "colab": {
          "base_uri": "https://localhost:8080/",
          "height": 614
        },
        "id": "jdUUcWnWDdUE",
        "outputId": "bd774107-d70c-479d-9c02-7105b85c41c9"
      },
      "execution_count": 18,
      "outputs": [
        {
          "output_type": "execute_result",
          "data": {
            "text/plain": [
              "     0\n",
              "0   34\n",
              "1   36\n",
              "2   36\n",
              "3   38\n",
              "4   38\n",
              "5   39\n",
              "6   39\n",
              "7   40\n",
              "8   40\n",
              "9   41\n",
              "10  41\n",
              "11  41\n",
              "12  41\n",
              "13  42\n",
              "14  42\n",
              "15  45\n",
              "16  49\n",
              "17  56"
            ],
            "text/html": [
              "\n",
              "  <div id=\"df-2f6fb371-335e-4bb1-bf42-874a455675ed\">\n",
              "    <div class=\"colab-df-container\">\n",
              "      <div>\n",
              "<style scoped>\n",
              "    .dataframe tbody tr th:only-of-type {\n",
              "        vertical-align: middle;\n",
              "    }\n",
              "\n",
              "    .dataframe tbody tr th {\n",
              "        vertical-align: top;\n",
              "    }\n",
              "\n",
              "    .dataframe thead th {\n",
              "        text-align: right;\n",
              "    }\n",
              "</style>\n",
              "<table border=\"1\" class=\"dataframe\">\n",
              "  <thead>\n",
              "    <tr style=\"text-align: right;\">\n",
              "      <th></th>\n",
              "      <th>0</th>\n",
              "    </tr>\n",
              "  </thead>\n",
              "  <tbody>\n",
              "    <tr>\n",
              "      <th>0</th>\n",
              "      <td>34</td>\n",
              "    </tr>\n",
              "    <tr>\n",
              "      <th>1</th>\n",
              "      <td>36</td>\n",
              "    </tr>\n",
              "    <tr>\n",
              "      <th>2</th>\n",
              "      <td>36</td>\n",
              "    </tr>\n",
              "    <tr>\n",
              "      <th>3</th>\n",
              "      <td>38</td>\n",
              "    </tr>\n",
              "    <tr>\n",
              "      <th>4</th>\n",
              "      <td>38</td>\n",
              "    </tr>\n",
              "    <tr>\n",
              "      <th>5</th>\n",
              "      <td>39</td>\n",
              "    </tr>\n",
              "    <tr>\n",
              "      <th>6</th>\n",
              "      <td>39</td>\n",
              "    </tr>\n",
              "    <tr>\n",
              "      <th>7</th>\n",
              "      <td>40</td>\n",
              "    </tr>\n",
              "    <tr>\n",
              "      <th>8</th>\n",
              "      <td>40</td>\n",
              "    </tr>\n",
              "    <tr>\n",
              "      <th>9</th>\n",
              "      <td>41</td>\n",
              "    </tr>\n",
              "    <tr>\n",
              "      <th>10</th>\n",
              "      <td>41</td>\n",
              "    </tr>\n",
              "    <tr>\n",
              "      <th>11</th>\n",
              "      <td>41</td>\n",
              "    </tr>\n",
              "    <tr>\n",
              "      <th>12</th>\n",
              "      <td>41</td>\n",
              "    </tr>\n",
              "    <tr>\n",
              "      <th>13</th>\n",
              "      <td>42</td>\n",
              "    </tr>\n",
              "    <tr>\n",
              "      <th>14</th>\n",
              "      <td>42</td>\n",
              "    </tr>\n",
              "    <tr>\n",
              "      <th>15</th>\n",
              "      <td>45</td>\n",
              "    </tr>\n",
              "    <tr>\n",
              "      <th>16</th>\n",
              "      <td>49</td>\n",
              "    </tr>\n",
              "    <tr>\n",
              "      <th>17</th>\n",
              "      <td>56</td>\n",
              "    </tr>\n",
              "  </tbody>\n",
              "</table>\n",
              "</div>\n",
              "      <button class=\"colab-df-convert\" onclick=\"convertToInteractive('df-2f6fb371-335e-4bb1-bf42-874a455675ed')\"\n",
              "              title=\"Convert this dataframe to an interactive table.\"\n",
              "              style=\"display:none;\">\n",
              "        \n",
              "  <svg xmlns=\"http://www.w3.org/2000/svg\" height=\"24px\"viewBox=\"0 0 24 24\"\n",
              "       width=\"24px\">\n",
              "    <path d=\"M0 0h24v24H0V0z\" fill=\"none\"/>\n",
              "    <path d=\"M18.56 5.44l.94 2.06.94-2.06 2.06-.94-2.06-.94-.94-2.06-.94 2.06-2.06.94zm-11 1L8.5 8.5l.94-2.06 2.06-.94-2.06-.94L8.5 2.5l-.94 2.06-2.06.94zm10 10l.94 2.06.94-2.06 2.06-.94-2.06-.94-.94-2.06-.94 2.06-2.06.94z\"/><path d=\"M17.41 7.96l-1.37-1.37c-.4-.4-.92-.59-1.43-.59-.52 0-1.04.2-1.43.59L10.3 9.45l-7.72 7.72c-.78.78-.78 2.05 0 2.83L4 21.41c.39.39.9.59 1.41.59.51 0 1.02-.2 1.41-.59l7.78-7.78 2.81-2.81c.8-.78.8-2.07 0-2.86zM5.41 20L4 18.59l7.72-7.72 1.47 1.35L5.41 20z\"/>\n",
              "  </svg>\n",
              "      </button>\n",
              "      \n",
              "  <style>\n",
              "    .colab-df-container {\n",
              "      display:flex;\n",
              "      flex-wrap:wrap;\n",
              "      gap: 12px;\n",
              "    }\n",
              "\n",
              "    .colab-df-convert {\n",
              "      background-color: #E8F0FE;\n",
              "      border: none;\n",
              "      border-radius: 50%;\n",
              "      cursor: pointer;\n",
              "      display: none;\n",
              "      fill: #1967D2;\n",
              "      height: 32px;\n",
              "      padding: 0 0 0 0;\n",
              "      width: 32px;\n",
              "    }\n",
              "\n",
              "    .colab-df-convert:hover {\n",
              "      background-color: #E2EBFA;\n",
              "      box-shadow: 0px 1px 2px rgba(60, 64, 67, 0.3), 0px 1px 3px 1px rgba(60, 64, 67, 0.15);\n",
              "      fill: #174EA6;\n",
              "    }\n",
              "\n",
              "    [theme=dark] .colab-df-convert {\n",
              "      background-color: #3B4455;\n",
              "      fill: #D2E3FC;\n",
              "    }\n",
              "\n",
              "    [theme=dark] .colab-df-convert:hover {\n",
              "      background-color: #434B5C;\n",
              "      box-shadow: 0px 1px 3px 1px rgba(0, 0, 0, 0.15);\n",
              "      filter: drop-shadow(0px 1px 2px rgba(0, 0, 0, 0.3));\n",
              "      fill: #FFFFFF;\n",
              "    }\n",
              "  </style>\n",
              "\n",
              "      <script>\n",
              "        const buttonEl =\n",
              "          document.querySelector('#df-2f6fb371-335e-4bb1-bf42-874a455675ed button.colab-df-convert');\n",
              "        buttonEl.style.display =\n",
              "          google.colab.kernel.accessAllowed ? 'block' : 'none';\n",
              "\n",
              "        async function convertToInteractive(key) {\n",
              "          const element = document.querySelector('#df-2f6fb371-335e-4bb1-bf42-874a455675ed');\n",
              "          const dataTable =\n",
              "            await google.colab.kernel.invokeFunction('convertToInteractive',\n",
              "                                                     [key], {});\n",
              "          if (!dataTable) return;\n",
              "\n",
              "          const docLinkHtml = 'Like what you see? Visit the ' +\n",
              "            '<a target=\"_blank\" href=https://colab.research.google.com/notebooks/data_table.ipynb>data table notebook</a>'\n",
              "            + ' to learn more about interactive tables.';\n",
              "          element.innerHTML = '';\n",
              "          dataTable['output_type'] = 'display_data';\n",
              "          await google.colab.output.renderOutput(dataTable, element);\n",
              "          const docLink = document.createElement('div');\n",
              "          docLink.innerHTML = docLinkHtml;\n",
              "          element.appendChild(docLink);\n",
              "        }\n",
              "      </script>\n",
              "    </div>\n",
              "  </div>\n",
              "  "
            ]
          },
          "metadata": {},
          "execution_count": 18
        }
      ]
    },
    {
      "cell_type": "code",
      "source": [
        "print('Mean',sc[0].mean())\n",
        "print('Median',sc[0].median())\n",
        "print('Mode',sc[0].mode())\n",
        "print('Variance',sc[0].var())\n",
        "print('STD',sc[0].std())\n",
        "#Most students have obtained marks around 41. The marks that is most repeated is 41. 2 Outliers exist for the same - 49,56. \n",
        "sc.plot.box()"
      ],
      "metadata": {
        "colab": {
          "base_uri": "https://localhost:8080/",
          "height": 387
        },
        "id": "rkDWwp7fDlno",
        "outputId": "58c20e87-c8fc-4b25-b760-da9ae8ae0476"
      },
      "execution_count": 19,
      "outputs": [
        {
          "output_type": "stream",
          "name": "stdout",
          "text": [
            "Mean 41.0\n",
            "Median 40.5\n",
            "Mode 0    41\n",
            "dtype: int64\n",
            "Variance 25.529411764705884\n",
            "STD 5.05266382858645\n"
          ]
        },
        {
          "output_type": "execute_result",
          "data": {
            "text/plain": [
              "<matplotlib.axes._subplots.AxesSubplot at 0x7f73cbfee150>"
            ]
          },
          "metadata": {},
          "execution_count": 19
        },
        {
          "output_type": "display_data",
          "data": {
            "text/plain": [
              "<Figure size 432x288 with 1 Axes>"
            ],
            "image/png": "[encoded data removed]"
          },
          "metadata": {
            "needs_background": "light"
          }
        }
      ]
    },
    {
      "cell_type": "markdown",
      "source": [
        "Q5) What is the nature of skewness when mean, median of data is equal?\n",
        "\n",
        "If mean and median are equal distribution will be symmetric and skewness will be 0."
      ],
      "metadata": {
        "id": "edgJt7y403F0"
      }
    },
    {
      "cell_type": "markdown",
      "source": [
        "Q6) What is the nature of skewness when mean > median?\n",
        "\n",
        "The distribution is positively skewed"
      ],
      "metadata": {
        "id": "HABOn5KL1RUS"
      }
    },
    {
      "cell_type": "markdown",
      "source": [
        "Q7) What is the nature of skewness when median > mean?\n",
        "\n",
        "The distribution is negatively skewed"
      ],
      "metadata": {
        "id": "TS8AkuD41ind"
      }
    },
    {
      "cell_type": "markdown",
      "source": [
        "Q8) What does positive kurtosis value indicates for a data?\n",
        "\n",
        "Indicates distribution is peaked with thick tails. So data is more concentrated in the tails rather than the mean."
      ],
      "metadata": {
        "id": "-Ik939de1uQ7"
      }
    },
    {
      "cell_type": "markdown",
      "source": [
        "Q9) What does negative kurtosis value indicates for a data?\n",
        "\n",
        "Distribution has wider peak and thin tails. "
      ],
      "metadata": {
        "id": "iGitQWfN1wTP"
      }
    },
    {
      "cell_type": "markdown",
      "source": [
        "Q10) Answer the below questions using the below boxplot visualization.\n",
        "\n",
        "\n"
      ],
      "metadata": {
        "id": "lnJ1fE0oGPI5"
      }
    },
    {
      "cell_type": "code",
      "source": [
        "df1[['speed','dist']].plot.box()\n",
        "df2[['SP','WT']].plot.box()\n",
        "from matplotlib.cbook import boxplot_stats \n",
        "boxplot_stats(df2.WT)\n"
      ],
      "metadata": {
        "colab": {
          "base_uri": "https://localhost:8080/",
          "height": 704
        },
        "id": "Ek2G1DT-GW58",
        "outputId": "53570597-0fef-44d3-c8c4-3d734eb448c2"
      },
      "execution_count": 61,
      "outputs": [
        {
          "output_type": "execute_result",
          "data": {
            "text/plain": [
              "[{'mean': 32.412576910246905,\n",
              "  'iqr': 7.800756100000001,\n",
              "  'cilo': 31.37371961588889,\n",
              "  'cihi': 34.095316744111116,\n",
              "  'whishi': 44.01313857,\n",
              "  'whislo': 27.87991549,\n",
              "  'fliers': array([15.84775807, 16.35948352, 15.75353468, 16.19412154, 16.04317492,\n",
              "         15.71285853, 15.82306042, 16.13294744, 15.76962542, 52.99775236]),\n",
              "  'q1': 29.59176832,\n",
              "  'med': 32.73451818,\n",
              "  'q3': 37.39252442}]"
            ]
          },
          "metadata": {},
          "execution_count": 61
        },
        {
          "output_type": "display_data",
          "data": {
            "text/plain": [
              "<Figure size 432x288 with 1 Axes>"
            ],
            "image/png": "[encoded data removed]"
          },
          "metadata": {
            "needs_background": "light"
          }
        },
        {
          "output_type": "display_data",
          "data": {
            "text/plain": [
              "<Figure size 432x288 with 1 Axes>"
            ],
            "image/png": "[encoded data removed]"
          },
          "metadata": {
            "needs_background": "light"
          }
        }
      ]
    },
    {
      "cell_type": "markdown",
      "source": [
        "#What can we say about the distribution of the data?What is nature of skewness of the data?\n",
        "\n",
        "\n",
        "*   There is no symmetric distribution in the data\n",
        "*   There is presence of outliers in dist,SP and WT\n",
        "*   For speed, dataset is negatively skewed\n",
        "*   For distance, it is positively skewed as more data is concentrated to posiive end\n",
        "*   SP is positively skewed as there is more data concentrated to positive end\n",
        "*   distance dataset has a wide range of values from 0-120\n",
        "\n",
        "\n",
        "\n",
        "\n",
        "\n",
        "\n"
      ],
      "metadata": {
        "id": "cE4VSPQqIvwV"
      }
    },
    {
      "cell_type": "markdown",
      "source": [
        "#What will be the IQR of the data (approximately)?\n",
        "\n",
        "SPEED 18-10 = 8\n",
        "\n",
        "DISTANCE 55-25 = 30\n",
        "\n",
        "SP 125-110 = 15\n",
        "\n",
        "WT 40 - 30 = 10"
      ],
      "metadata": {
        "id": "6jYsTSrLLMtV"
      }
    },
    {
      "cell_type": "markdown",
      "source": [
        "Q11) Comment on the below Boxplot visualizations? \n",
        "\n",
        "Draw an Inference from the distribution of data for Boxplot 1 with respect Boxplot 2.\n",
        "Hint: [On comparing both the plots, and check if the data is normally distributed/not, outliers present, skewness etc.]\n",
        "\n",
        "On comparing SPEED vs DISTANCE and SP vs WT\n",
        "\n",
        "*   There are outliers in dist,SP,WT datasets\n",
        "*   As for skewness, there is no symmetry all are skewed\n",
        "*   All are not normally distributed\n",
        "*   Speed -ve, distance +ve, SP +ve and WT -ve skewed\n",
        "\n",
        "\n",
        "\n"
      ],
      "metadata": {
        "id": "sPN-oqMBGSDj"
      }
    },
    {
      "cell_type": "markdown",
      "source": [
        "\n",
        "Q12) Answer the following three questions based on the boxplot above.\n",
        "What is inter-quartile range of this dataset?  [Hint: IQR = Q3 – Q1]\n",
        "In one line, explain what this value implies. (Hint: Based on IQR definition)\n",
        "What can we say about the skewness of this dataset?\n",
        "If it were found that the data point with the value 25 is 2.5, how would the new boxplot be affected? \n",
        "(Hint: On changing the data point from 25 to 2.5 in the data, how is it different from the current one.) \n",
        "\n",
        "Apprx IQR values \n",
        "\n",
        "SPEED 18-10 = 8\n",
        "\n",
        "DISTANCE 55-25 = 30\n",
        "\n",
        "SP 125-110 = 15\n",
        "\n",
        "WT 40 - 30 = 10\n",
        "\n",
        "Interquartile Range gives value of 50%of data. It is not influenced by outliers as it depends on median. it shows spread of 50% od data in distribution\n",
        "\n",
        "Unless 25 is the median, 2.5 will fall at lower end and median will change accordingly so there will be slight increase in data in lower end of median. \n"
      ],
      "metadata": {
        "id": "xLkunPagGTxT"
      }
    },
    {
      "cell_type": "markdown",
      "source": [
        "Q13) \n",
        "Answer the following three questions based on the histogram\n"
      ],
      "metadata": {
        "id": "xvW91kJA8zUM"
      }
    },
    {
      "cell_type": "code",
      "source": [
        "plt.figure(figsize=(10,10))\n",
        "\n",
        "plt.subplot(2,2,1)\n",
        "plt.hist(df1.speed,bins = 5)\n",
        "plt.title('SPEED')\n",
        "\n",
        "plt.subplot(2,2,2)\n",
        "plt.hist(df1.dist,bins = 5)\n",
        "plt.title('DISTANCE')\n",
        "\n",
        "plt.subplot(2,2,3)\n",
        "plt.hist(df2.SP,bins = 5)\n",
        "plt.title('SP')\n",
        "\n",
        "plt.subplot(2,2,4)\n",
        "plt.hist(df2.WT,bins = 5)\n",
        "plt.title('WT')"
      ],
      "metadata": {
        "colab": {
          "base_uri": "https://localhost:8080/",
          "height": 624
        },
        "id": "iG6OKH4583Pq",
        "outputId": "5c5838ce-82cc-43b2-d5f5-e98e8b1e0c86"
      },
      "execution_count": 42,
      "outputs": [
        {
          "output_type": "execute_result",
          "data": {
            "text/plain": [
              "Text(0.5, 1.0, 'WT')"
            ]
          },
          "metadata": {},
          "execution_count": 42
        },
        {
          "output_type": "display_data",
          "data": {
            "text/plain": [
              "<Figure size 720x720 with 4 Axes>"
            ],
            "image/png": "[encoded data removed]"
          },
          "metadata": {
            "needs_background": "light"
          }
        }
      ]
    },
    {
      "cell_type": "markdown",
      "source": [
        "Where would the mode of this dataset lie? Hint: [In terms of values On Y-axis]\n",
        "\n",
        "\n",
        "\n",
        "Speed , mode would lie between 15 -20\n",
        "Distance , mode would be b/w 25-50\n",
        "SP , mode would be b/w 115-125\n",
        "WT , mode would be b/w 30-40\n",
        "\n",
        "Comment on the skewness of the dataset\n",
        "\n",
        "Speed - Negatively skewed\n",
        "Distance - Positively skewed\n",
        "SP - Positively skewed\n",
        "WT - Negatively skewed"
      ],
      "metadata": {
        "id": "NZF6DKfXBNUV"
      }
    },
    {
      "cell_type": "markdown",
      "source": [
        "Suppose that the above histogram and the boxplot in question 2 are plotted for the same dataset. Explain how these graphs complement each other in providing information about any dataset. Hint: [Visualizing both the plots, draw the insights]\n",
        "\n",
        "\n",
        "For boxplot vs histogram comparisons of speed vs distance and SP vs WT\n",
        "*   There are outliers in dist,SP,WT datasets\n",
        "*   As for skewness, there is no symmetry all are skewed\n",
        "*   All are not normally distributed\n",
        "*   Speed -ve, distance +ve, SP +ve and WT -ve skewed"
      ],
      "metadata": {
        "id": "H4TNERhnF1Fo"
      }
    }
  ]
}